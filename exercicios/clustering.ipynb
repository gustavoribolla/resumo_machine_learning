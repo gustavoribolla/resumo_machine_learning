{
 "cells": [
  {
   "cell_type": "markdown",
   "metadata": {},
   "source": [
    "## Questão 2: Clustering com K-Means e Silhouette\n",
    "\n",
    "Você tem um dataset com as seguintes características normalizadas de clientes:\n",
    "\n",
    "- Cliente 1: [0.5, 0.7]\n",
    "- Cliente 2: [0.2, 0.1]\n",
    "- Cliente 3: [0.9, 0.8]\n",
    "- Cliente 4: [0.4, 0.6]\n",
    "- Cliente 5: [0.3, 0.2]\n",
    "\n",
    "### Perguntas Práticas:\n",
    "\n",
    "1. Aplique o algoritmo K-Means para agrupar os clientes em 2 clusters.\n",
    "2. Calcule a distância média intra-cluster e inter-cluster.\n",
    "3. Utilize o coeficiente de silhouette para determinar se 2 ou 3 clusters são melhores.\n",
    "4. Com base no coeficiente de silhouette, indique qual o número ideal de clusters.\n",
    "\n",
    "### Perguntas Teóricas:\n",
    "\n",
    "1. **O que é o algoritmo K-Means e como ele funciona?**\n",
    "   - Resposta: K-Means é um algoritmo de clustering que agrupa os dados em \\(k\\) clusters, minimizando a soma das distâncias quadradas entre os pontos e os centros dos clusters. Ele funciona iterativamente, escolhendo \\(k\\) centros iniciais, atribuindo cada ponto ao centro mais próximo e recalculando os centros até que não haja mais mudanças nas atribuições.\n",
    "\n",
    "2. **Explique o conceito de coeficiente de silhouette e sua aplicação.**\n",
    "   - Resposta: O coeficiente de silhouette mede o quão bem cada ponto está agrupado em relação ao seu cluster e a outros clusters. O valor varia entre -1 e 1, sendo que valores próximos de 1 indicam um bom agrupamento. É usado para avaliar a qualidade do clustering, ajudando a escolher o número ótimo de clusters.\n",
    "\n",
    "3. **Por que a normalização dos dados é importante antes de aplicar K-Means?**\n",
    "   - Resposta: A normalização é importante porque o K-Means é sensível à escala dos dados. Sem normalizar, variáveis com maior amplitude podem dominar a distância euclidiana, resultando em clusters desequilibrados ou incorretos."
   ]
  }
 ],
 "metadata": {
  "language_info": {
   "name": "python"
  }
 },
 "nbformat": 4,
 "nbformat_minor": 2
}
