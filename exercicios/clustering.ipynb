{
 "cells": [
  {
   "cell_type": "markdown",
   "metadata": {},
   "source": [
    "## Questão 2: Clustering com K-Means e Silhouette\n",
    "\n",
    "Você tem um dataset com as seguintes características normalizadas de clientes:\n",
    "\n",
    "- Cliente 1: [0.5, 0.7]\n",
    "- Cliente 2: [0.2, 0.1]\n",
    "- Cliente 3: [0.9, 0.8]\n",
    "- Cliente 4: [0.4, 0.6]\n",
    "- Cliente 5: [0.3, 0.2]\n",
    "\n",
    "### Perguntas Práticas:\n",
    "\n",
    "1. Aplique o algoritmo K-Means para agrupar os clientes em 2 clusters.\n",
    "2. Calcule a distância média intra-cluster e inter-cluster.\n",
    "3. Utilize o coeficiente de silhouette para determinar se 2 ou 3 clusters são melhores.\n",
    "4. Com base no coeficiente de silhouette, indique qual o número ideal de clusters."
   ]
  },
  {
   "cell_type": "code",
   "execution_count": 13,
   "metadata": {},
   "outputs": [
    {
     "name": "stdout",
     "output_type": "stream",
     "text": [
      "Silhouette Score: 0.5656359883423918\n"
     ]
    },
    {
     "data": {
      "image/png": "[encoded data removed]",
      "text/plain": [
       "<Figure size 640x480 with 1 Axes>"
      ]
     },
     "metadata": {},
     "output_type": "display_data"
    }
   ],
   "source": [
    "#Pergunta 1\n",
    "#Resolucao\n",
    "import numpy as np\n",
    "from sklearn.cluster import KMeans\n",
    "import matplotlib.pyplot as plt\n",
    "\n",
    "# Dataset\n",
    "X = np.array([[0.5, 0.7],\n",
    "              [0.2, 0.1],\n",
    "              [0.9, 0.8],\n",
    "              [0.4, 0.6],\n",
    "              [0.3, 0.2]])\n",
    "\n",
    "# K-Means\n",
    "kmeans = KMeans(n_clusters=2, random_state=0).fit(X)\n",
    "\n",
    "plt.scatter(X[:, 0], X[:, 1], c=kmeans.labels_, alpha=1)\n",
    "\n",
    "from sklearn.metrics import silhouette_score\n",
    "print('Silhouette Score:', silhouette_score(X, kmeans.labels_))\n",
    "\n",
    "\n"
   ]
  },
  {
   "cell_type": "code",
   "execution_count": 14,
   "metadata": {},
   "outputs": [],
   "source": [
    "# Calcule a distância média intra-cluster e inter-cluster.\n",
    "\n",
    "# Intra-cluster\n",
    "intra_cluster = 0\n",
    "for i in range(len(X)):\n",
    "    for j in range(len(X)):\n",
    "        if kmeans.labels_[i] == kmeans.labels_[j]:\n",
    "            intra_cluster += np.linalg.norm(X[i] - X[j])\n",
    "intra_cluster /= len(X)\n",
    "\n",
    "# Inter-cluster\n",
    "inter_cluster = 0\n",
    "for i in range(len(X)):\n",
    "    for j in range(len(X)):\n",
    "        if kmeans.labels_[i] != kmeans.labels_[j]:\n",
    "            inter_cluster += np.linalg.norm(X[i] - X[j])\n",
    "inter_cluster /= len(X)"
   ]
  },
  {
   "cell_type": "code",
   "execution_count": 16,
   "metadata": {},
   "outputs": [
    {
     "name": "stdout",
     "output_type": "stream",
     "text": [
      "Silhouette Score 2 clusters: 0.294073076010036\n",
      "Silhouette Score 3 clusters: 0.5656359883423918\n"
     ]
    }
   ],
   "source": [
    "#Pergunta 3\n",
    "#Resolucao\n",
    "import numpy as np\n",
    "from sklearn.cluster import KMeans\n",
    "\n",
    "X = np.array([[0.5, 0.7],\n",
    "              [0.2, 0.1],\n",
    "              [0.9, 0.8],\n",
    "              [0.4, 0.6],\n",
    "              [0.3, 0.2]])\n",
    "\n",
    "# K-Means\n",
    "kmeans2 = KMeans(n_clusters=2, random_state=0).fit(X)\n",
    "kmeans3 = KMeans(n_clusters=3, random_state=0).fit(X)\n",
    "\n",
    "from sklearn.metrics import silhouette_score\n",
    "print('Silhouette Score 2 clusters:', silhouette_score(X, kmeans.labels_))\n",
    "print('Silhouette Score 3 clusters:', silhouette_score(X, kmeans3.labels_))\n",
    "\n",
    "#3 clusters tem um silhouette score maior que 2 clusters, logo é melhor"
   ]
  },
  {
   "cell_type": "markdown",
   "metadata": {},
   "source": [
    "### Perguntas Teóricas:\n",
    "\n",
    "1. **O que é o algoritmo K-Means e como ele funciona?**\n",
    "   - Resposta: K-Means é um algoritmo de clustering que agrupa os dados em \\(k\\) clusters, minimizando a soma das distâncias quadradas entre os pontos e os centros dos clusters. Ele funciona iterativamente, escolhendo \\(k\\) centros iniciais, atribuindo cada ponto ao centro mais próximo e recalculando os centros até que não haja mais mudanças nas atribuições.\n",
    "\n",
    "2. **Explique o conceito de coeficiente de silhouette e sua aplicação.**\n",
    "   - Resposta: O coeficiente de silhouette mede o quão bem cada ponto está agrupado em relação ao seu cluster e a outros clusters. O valor varia entre -1 e 1, sendo que valores próximos de 1 indicam um bom agrupamento. É usado para avaliar a qualidade do clustering, ajudando a escolher o número ótimo de clusters.\n",
    "\n",
    "3. **Por que a normalização dos dados é importante antes de aplicar K-Means?**\n",
    "   - Resposta: A normalização é importante porque o K-Means é sensível à escala dos dados. Sem normalizar, variáveis com maior amplitude podem dominar a distância euclidiana, resultando em clusters desequilibrados ou incorretos."
   ]
  }
 ],
 "metadata": {
  "kernelspec": {
   "display_name": ".venv",
   "language": "python",
   "name": "python3"
  },
  "language_info": {
   "codemirror_mode": {
    "name": "ipython",
    "version": 3
   },
   "file_extension": ".py",
   "mimetype": "text/x-python",
   "name": "python",
   "nbconvert_exporter": "python",
   "pygments_lexer": "ipython3",
   "version": "3.12.5"
  }
 },
 "nbformat": 4,
 "nbformat_minor": 2
}
