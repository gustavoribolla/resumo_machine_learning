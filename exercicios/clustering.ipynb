{
 "cells": [
  {
   "cell_type": "markdown",
   "metadata": {},
   "source": [
    "## Questão 2: Clustering com K-Means e Silhouette\n",
    "\n",
    "Você tem um dataset com as seguintes características normalizadas de clientes:\n",
    "\n",
    "- Cliente 1: [0.5, 0.7]\n",
    "- Cliente 2: [0.2, 0.1]\n",
    "- Cliente 3: [0.9, 0.8]\n",
    "- Cliente 4: [0.4, 0.6]\n",
    "- Cliente 5: [0.3, 0.2]\n",
    "\n",
    "### Perguntas:\n",
    "\n",
    "1. Aplique o algoritmo K-Means para agrupar os clientes em 2 clusters.\n",
    "2. Calcule a distância média intra-cluster e inter-cluster.\n",
    "3. Utilize o coeficiente de silhouette para determinar se 2 ou 3 clusters são melhores.\n",
    "4. Com base no coeficiente de silhouette, indique qual o número ideal de clusters.\n"
   ]
  }
 ],
 "metadata": {
  "language_info": {
   "name": "python"
  }
 },
 "nbformat": 4,
 "nbformat_minor": 2
}
