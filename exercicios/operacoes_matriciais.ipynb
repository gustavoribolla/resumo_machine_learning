{
 "cells": [
  {
   "cell_type": "markdown",
   "metadata": {},
   "source": [
    "## Questão 1: Manipulação e Operações Matriciais\n",
    "\n",
    "Considere as seguintes matrizes:\n",
    "\n",
    "- Matriz A (3x2): \n",
    "\n",
    "$$\n",
    "A = \\begin{pmatrix} \n",
    "{1} & {2}\\\\\n",
    "{3} & {4}\\\\\n",
    "{5} & {6}\n",
    "\\end{pmatrix}\n",
    "$$\n",
    "\n",
    "- Matriz B (2x3):\n",
    "\n",
    "$$\n",
    "B = \\begin{pmatrix} \n",
    "{7} & {8} & {9}\\\\\n",
    "{10} & {11} & {12}\n",
    "\\end{pmatrix}\n",
    "$$\n",
    "\n",
    "- Vetor v (2x1): \n",
    "\n",
    "\n",
    "$$\n",
    "v = \\begin{pmatrix} \n",
    "{2}\\\\\n",
    "{3}\n",
    "\\end{pmatrix}\n",
    "$$\n",
    "\n",
    "\n",
    "\n",
    "\n",
    "\n",
    "\n",
    "\n"
   ]
  },
  {
   "cell_type": "markdown",
   "metadata": {},
   "source": [
    "### Perguntas:\n",
    "\n",
    "1. Realize a multiplicação de A e B.\n",
    "2. Multiplique o vetor v por um escalar k = 5.\n",
    "3. Verifique se os vetores v₁ = (1, 2, 3) e v₂ = (2, 4, 6) são linearmente dependentes ou independentes.\n",
    "4. Monte uma combinação linear dos vetores v₁ e v₃ = (4, 5, 6), com coeficientes a = 2 e b = 3.\n"
   ]
  }
 ],
 "metadata": {
  "language_info": {
   "name": "python"
  }
 },
 "nbformat": 4,
 "nbformat_minor": 2
}
