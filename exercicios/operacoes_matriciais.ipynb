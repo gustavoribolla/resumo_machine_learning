{
 "cells": [
  {
   "cell_type": "markdown",
   "metadata": {},
   "source": [
    "## Questão 1: Manipulação e Operações Matriciais\n",
    "\n",
    "Considere as seguintes matrizes:\n",
    "\n",
    "- Matriz A (3x2): \n",
    "\n",
    "$$\n",
    "A = \\begin{pmatrix} \n",
    "{1} & {2}\\\\\n",
    "{3} & {4}\\\\\n",
    "{5} & {6}\n",
    "\\end{pmatrix}\n",
    "$$\n",
    "\n",
    "- Matriz B (2x3):\n",
    "\n",
    "$$\n",
    "B = \\begin{pmatrix} \n",
    "{7} & {8} & {9}\\\\\n",
    "{10} & {11} & {12}\n",
    "\\end{pmatrix}\n",
    "$$\n",
    "\n",
    "- Vetor v (2x1): \n",
    "\n",
    "\n",
    "$$\n",
    "v = \\begin{pmatrix} \n",
    "{2}\\\\\n",
    "{3}\n",
    "\\end{pmatrix}\n",
    "$$\n",
    "\n",
    "\n",
    "\n",
    "\n",
    "\n",
    "\n",
    "\n"
   ]
  },
  {
   "cell_type": "markdown",
   "metadata": {},
   "source": [
    "\n",
    "### Perguntas Práticas:\n",
    "\n",
    "1. Realize a multiplicação de A e B.\n",
    "2. Multiplique o vetor v por um escalar \\(k = 5\\).\n",
    "3. Verifique se os vetores v₁ = (1, 2, 3) e v₂ = (2, 4, 6) são linearmente dependentes ou independentes.\n",
    "4. Monte uma combinação linear dos vetores v₁ e v₃ = (4, 5, 6), com coeficientes \\(a = 2\\) e \\(b = 3\\).\n",
    "\n",
    "### Perguntas Teóricas:\n",
    "\n",
    "1. **O que significa dizer que dois vetores são linearmente dependentes?**\n",
    " - Resposta: Dois vetores são linearmente dependentes se um deles puder ser escrito como uma combinação linear do outro. Isso significa que a matriz formada pelos dois vetores tem determinante igual a zero, e os vetores não formam uma base para o espaço vetorial.\n",
    "\n",
    "2. **Qual a importância da multiplicação de matrizes no aprendizado de máquina?**\n",
    " - Resposta: A multiplicação de matrizes é fundamental para a representação de transformações lineares e operações em redes neurais, como a propagação de sinais e o cálculo de pesos em modelos de aprendizado supervisionado.\n",
    "\n",
    "3. **Explique o conceito de combinação linear e sua aplicação em aprendizado de máquina.**\n",
    " - Resposta: Combinação linear é uma soma ponderada de vetores. Em aprendizado de máquina, combinações lineares são usadas para construir modelos lineares, como regressão linear e perceptrons, em que as previsões são feitas com base na combinação de múltiplas entradas com pesos.\n"
   ]
  },
  {
   "cell_type": "code",
   "execution_count": null,
   "metadata": {
    "vscode": {
     "languageId": "plaintext"
    }
   },
   "outputs": [],
   "source": []
  }
 ],
 "metadata": {
  "language_info": {
   "name": "python"
  }
 },
 "nbformat": 4,
 "nbformat_minor": 2
}
