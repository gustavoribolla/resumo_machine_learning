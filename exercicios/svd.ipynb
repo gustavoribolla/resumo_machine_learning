{
 "cells": [
  {
   "cell_type": "markdown",
   "metadata": {},
   "source": [
    "## Questão 3: SVD e Distância Cosseno\n",
    "\n",
    "Uma matriz de dados foi decomposta usando a técnica de SVD, resultando em:\n",
    "\n",
    "- Matriz \\(U\\): Representa as relações entre médicos.\n",
    "- Matriz \\(S\\): Matriz diagonal com valores singulares.\n",
    "- Matriz \\(V^T\\): Representa as relações entre remédios.\n",
    "\n",
    "### Perguntas Práticas:\n",
    "\n",
    "1. Aplique a distância cosseno entre dois vetores das colunas de U e interprete a similaridade entre dois médicos.\n",
    "2. Identifique possíveis outliers com base nas matrizes U e V^T.\n",
    "3. Dada a matriz S, quais são as dimensões mais importantes da decomposição SVD?\n",
    "\n",
    "### Perguntas Teóricas:\n",
    "\n",
    "1. **O que é a Decomposição em Valores Singulares (SVD) e qual sua utilidade?**\n",
    "   - Resposta: SVD é uma técnica de decomposição de matrizes que decompõe uma matriz \\(A\\) em três outras matrizes \\(U\\), \\(S\\), e \\(V^T\\), onde \\(U\\) e \\(V\\) são ortogonais e \\(S\\) contém os valores singulares. SVD é útil em compressão de dados, redução de dimensionalidade e detecção de padrões.\n",
    "\n",
    "2. **Qual a diferença entre distância cosseno e distância euclidiana?**\n",
    "   - Resposta: A distância cosseno mede o ângulo entre dois vetores e avalia a similaridade em termos de direção, ignorando a magnitude. Já a distância euclidiana mede a distância direta entre os pontos, considerando a magnitude dos vetores.\n",
    "\n",
    "3. **Explique como a SVD pode ser usada para identificar outliers em um conjunto de dados.**\n",
    "   - Resposta: A SVD reduz os dados a suas componentes principais, e pontos que se desviam significativamente da reconstrução dos dados com base nessas componentes podem ser considerados outliers, pois não seguem o padrão principal do conjunto de dados."
   ]
  }
 ],
 "metadata": {
  "language_info": {
   "name": "python"
  }
 },
 "nbformat": 4,
 "nbformat_minor": 2
}
