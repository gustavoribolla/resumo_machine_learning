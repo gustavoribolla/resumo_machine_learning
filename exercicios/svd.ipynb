{
 "cells": [
  {
   "cell_type": "markdown",
   "metadata": {},
   "source": [
    "## Questão 3: SVD e Distância Cosseno\n",
    "\n",
    "Uma matriz de dados foi decomposta usando a técnica de SVD, resultando em:\n",
    "\n",
    "- Matriz \\(U\\): Representa as relações entre médicos.\n",
    "- Matriz \\(S\\): Matriz diagonal com valores singulares.\n",
    "- Matriz \\(V^T\\): Representa as relações entre remédios.\n",
    "\n",
    "### Perguntas:\n",
    "\n",
    "1. Aplique a distância cosseno entre dois vetores das colunas de \\(U\\) e interprete a similaridade entre dois médicos.\n",
    "2. Identifique possíveis outliers com base nas matrizes \\(U\\) e \\(V^T\\).\n",
    "3. Dada a matriz \\(S\\), quais são as dimensões mais importantes da decomposição SVD?\n"
   ]
  }
 ],
 "metadata": {
  "language_info": {
   "name": "python"
  }
 },
 "nbformat": 4,
 "nbformat_minor": 2
}
