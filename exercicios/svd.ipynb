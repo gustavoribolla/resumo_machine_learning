{
 "cells": [
  {
   "cell_type": "markdown",
   "metadata": {},
   "source": [
    "## Questão 3: SVD e Distância Cosseno\n",
    "\n",
    "Uma matriz de dados foi decomposta usando a técnica de SVD, resultando em:\n",
    "\n",
    "- Matriz \\(U\\): Representa as relações entre médicos.\n",
    "\n",
    "$U = \\begin{pmatrix}\n",
    "0.3745 & 0.9507 & 0.7320 & 0.5987 & 0.1560 \\\\\n",
    "0.1560 & 0.0581 & 0.8662 & 0.6011 & 0.7081 \\\\\n",
    "0.0206 & 0.9699 & 0.8324 & 0.2123 & 0.1818 \\\\\n",
    "0.1834 & 0.3042 & 0.5248 & 0.4319 & 0.2912 \\\\\n",
    "0.6119 & 0.1395 & 0.2921 & 0.3664 & 0.4561 \\\\\n",
    "\\end{pmatrix}$\n",
    "\n",
    "\n",
    "- Matriz \\(S\\): Matriz diagonal com valores singulares.\n",
    "S = \\begin{pmatrix}\n",
    "20 & 0  & 0  & 0  & 0   \\\\\n",
    "0  & 15 & 0  & 0  & 0   \\\\\n",
    "0  & 0  & 5  & 0  & 0   \\\\\n",
    "0  & 0  & 0  & 2  & 0   \\\\\n",
    "0  & 0  & 0  & 0  & 0.5 \\\\\n",
    "\\end{pmatrix}\n",
    "\n",
    "\n",
    "- Matriz \\(V^T\\): Representa as relações entre remédios.\n",
    "V^T = \\begin{pmatrix}\n",
    "0.7852 & 0.1997 & 0.5142 & 0.5924 & 0.0465 \\\\\n",
    "0.6075 & 0.1705 & 0.0651 & 0.9489 & 0.9656 \\\\\n",
    "0.8084 & 0.3046 & 0.0977 & 0.6842 & 0.4402 \\\\\n",
    "0.1220 & 0.4952 & 0.0344 & 0.9093 & 0.2588 \\\\\n",
    "0.6625 & 0.3117 & 0.5201 & 0.5467 & 0.1849 \\\\\n",
    "\\end{pmatrix}\n",
    "\n",
    "\n",
    "\n",
    "### Perguntas Práticas:\n",
    "\n",
    "1. Aplique a distância cosseno entre dois vetores das colunas de U e interprete a similaridade entre dois médicos.\n",
    "2. Identifique possíveis outliers com base nas matrizes U e V^T.\n",
    "3. Dada a matriz S, quais são as dimensões mais importantes da decomposição SVD?\n",
    "\n",
    "### Perguntas Teóricas:\n",
    "\n",
    "1. **O que é a Decomposição em Valores Singulares (SVD) e qual sua utilidade?**\n",
    "   - Resposta: SVD é uma técnica de decomposição de matrizes que decompõe uma matriz \\(A\\) em três outras matrizes \\(U\\), \\(S\\), e \\(V^T\\), onde \\(U\\) e \\(V\\) são ortogonais e \\(S\\) contém os valores singulares. SVD é útil em compressão de dados, redução de dimensionalidade e detecção de padrões.\n",
    "\n",
    "2. **Qual a diferença entre distância cosseno e distância euclidiana?**\n",
    "   - Resposta: A distância cosseno mede o ângulo entre dois vetores e avalia a similaridade em termos de direção, ignorando a magnitude. Já a distância euclidiana mede a distância direta entre os pontos, considerando a magnitude dos vetores.\n",
    "\n",
    "3. **Explique como a SVD pode ser usada para identificar outliers em um conjunto de dados.**\n",
    "   - Resposta: A SVD reduz os dados a suas componentes principais, e pontos que se desviam significativamente da reconstrução dos dados com base nessas componentes podem ser considerados outliers, pois não seguem o padrão principal do conjunto de dados."
   ]
  }
 ],
 "metadata": {
  "language_info": {
   "name": "python"
  }
 },
 "nbformat": 4,
 "nbformat_minor": 2
}
