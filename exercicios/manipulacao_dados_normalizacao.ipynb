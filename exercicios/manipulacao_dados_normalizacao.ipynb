{
 "cells": [
  {
   "cell_type": "markdown",
   "metadata": {},
   "source": [
    "## Questão 5: Manipulação de Dados e Normalização\n",
    "\n",
    "Dado um dataset com as seguintes informações:\n",
    "\n",
    "- Coluna 1: Idade (anos): [25, 30, 35, 40, 45]\n",
    "- Coluna 2: Salário (mil): [50, 60, 80, 90, 110]\n",
    "- Coluna 3: Despesas (mil): [20, 30, 40, 50, 60]\n",
    "\n",
    "### Perguntas Práticas:\n",
    "\n",
    "1. Normalize os dados da coluna de salário usando a técnica Min-Max.\n",
    "2. Identifique e remova possíveis outliers (utilize a regra dos 1.5 IQR).\n",
    "3. Construa um modelo de regressão linear para prever as despesas com base no salário.\n",
    "4. Separe o dataset em treino (80%) e teste (20%) e avalie a performance do modelo usando RMSE (Root Mean Squared Error).\n",
    "\n",
    "### Perguntas Teóricas:\n",
    "\n",
    "1. **Por que a normalização dos dados é importante em Machine Learning?**\n",
    "   - Resposta: A normalização é importante porque muitos algoritmos de machine learning são sensíveis à escala das features. Sem normalização, features com valores mais altos podem dominar a função de custo e afetar o desempenho do modelo.\n",
    "\n",
    "2. **O que é a técnica Min-Max e como ela funciona?**\n",
    "   - Resposta: Min-Max é uma técnica de normalização que escala os valores das features para um intervalo específico, geralmente entre 0 e 1. Ela é calculada com a fórmula: \\( \\text{Valor Normalizado} = \\frac{\\text{Valor} - \\text{Mínimo}}{\\text{Máximo} - \\text{Mínimo}} \\).\n",
    "\n",
    "3. **Explique como os outliers podem afetar o desempenho de modelos de regressão.**\n",
    "   - Resposta: Outliers podem distorcer os resultados de um modelo de regressão, puxando a linha de ajuste e resultando em previsões incorretas. Remover ou tratar outliers é uma prática importante para melhorar a performance do modelo.\n"
   ]
  }
 ],
 "metadata": {
  "language_info": {
   "name": "python"
  }
 },
 "nbformat": 4,
 "nbformat_minor": 2
}
