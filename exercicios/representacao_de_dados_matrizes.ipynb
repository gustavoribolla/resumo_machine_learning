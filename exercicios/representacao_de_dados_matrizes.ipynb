{
 "cells": [
  {
   "cell_type": "markdown",
   "metadata": {},
   "source": [
    "*Exercise* In a previous exercise we had the information that:\n",
    "\n",
    "- Bananas have $420$ mg of potassium, $27$ g of carbohydrates, and $1.3$ g of protein. \n",
    "- Apples have $200$ mg of potassium, $25$ g of carbs and $0.5$ g of protein.\n",
    "\n",
    "Kevin likes to eat $5$ bananas and $3$ apples a day, while Stuart likes to eat $2$ bananas and $4$ apples a day. \n",
    "\n",
    "(a) You already wrote the nutritional information of the fruits as a matrix of nutrients (rows) per fruits (columns). Now write the eating preferences (quantity of fruit per day) of Kevin and Stuart as a matrix of fruits (rows) per character (columns)\n",
    "\n",
    "(b) You now have two matrices: $\\boldsymbol{F}{\\text{nutrients} \\times \\text{fruits}}$ and $\\boldsymbol{P}{\\text{fruits} \\times \\text{characters}}$. Write the matrix product that allows us to obtain the amount of nutrients per character.\n"
   ]
  },
  {
   "cell_type": "markdown",
   "metadata": {},
   "source": [
    "$NF = \\begin{bmatrix} 420 & 200\\\\ \n",
    "27 & 25 \\\\\n",
    "1.3 & 0.5 \\end{bmatrix}$\n",
    "\n",
    "$FD = \\begin{bmatrix} 5 & 2 \\\\ 3 & 4 \\end{bmatrix}$\n",
    "\n",
    "\n",
    "$NF * FD = \\begin{bmatrix} 420 * 5 + 200 * 3 & 420 * 2 + 200 * 4  \\\\\n",
    "                            27 * 5 + 25 * 3 & 27 * 2 + 25 * 4 \\\\  \n",
    "                            1.3 * 5 + 0.5 * 3 & 1.3 * 2 + 0.5 * 4 \\end{bmatrix}$\n",
    "\n",
    "$  NF * FD = \\begin{bmatrix} 2700 & 1640 \\\\ 210 & 154 \\\\ 8 & 4.6 \\end{bmatrix}$\n",
    "\n"
   ]
  },
  {
   "cell_type": "code",
   "execution_count": 8,
   "metadata": {},
   "outputs": [
    {
     "data": {
      "text/plain": [
       "array([[2700. , 1640. ],\n",
       "       [ 210. ,  154. ],\n",
       "       [   8. ,    4.6]])"
      ]
     },
     "execution_count": 8,
     "metadata": {},
     "output_type": "execute_result"
    }
   ],
   "source": [
    "import numpy as np\n",
    "\n",
    "nf = np.array([[420,27,1.3],[200, 25, 0.5]])\n",
    "fd = np.array([[5,2],[3,4]])\n",
    "\n",
    "mult = nf.T @ fd\n",
    "mult"
   ]
  }
 ],
 "metadata": {
  "kernelspec": {
   "display_name": ".venv",
   "language": "python",
   "name": "python3"
  },
  "language_info": {
   "codemirror_mode": {
    "name": "ipython",
    "version": 3
   },
   "file_extension": ".py",
   "mimetype": "text/x-python",
   "name": "python",
   "nbconvert_exporter": "python",
   "pygments_lexer": "ipython3",
   "version": "3.12.5"
  }
 },
 "nbformat": 4,
 "nbformat_minor": 2
}
