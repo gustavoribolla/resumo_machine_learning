{
 "cells": [
  {
   "cell_type": "markdown",
   "metadata": {},
   "source": [
    "## Questão 4: Regressão Linear\n",
    "\n",
    "Dado o seguinte conjunto de dados sobre o preço de casas:\n",
    "\n",
    "- Área (m²): [70, 100, 120, 200]\n",
    "- Preço (mil): [200, 300, 350, 500]\n",
    "\n",
    "### Perguntas Práticas:\n",
    "\n",
    "1. Utilize regressão linear para encontrar os pesos que melhor ajustam o modelo para prever o preço com base na área.\n",
    "2. A partir dos dados, faça um gráfico com a linha de regressão linear.\n",
    "3. Sugira transformações de features que poderiam melhorar a performance do modelo.\n",
    "4. Analise o coeficiente de determinação \\(R^2\\) para avaliar o ajuste do modelo.\n",
    "\n",
    "### Perguntas Teóricas:\n",
    "\n",
    "1. **Explique o conceito de regressão linear e como ela funciona.**\n",
    "   - Resposta: A regressão linear é um modelo que assume uma relação linear entre a variável independente (input) e a variável dependente (output). Ela ajusta uma linha reta aos dados, minimizando a soma dos erros quadrados entre as previsões e os valores reais.\n",
    "\n",
    "2. **O que é o coeficiente de determinação \\(R^2\\)?**\n",
    "   - Resposta: \\(R^2\\) mede a proporção da variabilidade dos dados que é explicada pelo modelo de regressão. Valores próximos de 1 indicam que o modelo explica bem os dados, enquanto valores próximos de 0 indicam um ajuste fraco.\n",
    "\n",
    "3. **O que é feature engineering e qual sua importância na regressão linear?**\n",
    "   - Resposta: Feature engineering é o processo de criar novas variáveis a partir dos dados brutos para melhorar o desempenho do modelo. Na regressão linear, transformar as features (como criar interações ou polinômios) pode melhorar o ajuste do modelo às relações não lineares presentes nos dados."
   ]
  }
 ],
 "metadata": {
  "language_info": {
   "name": "python"
  }
 },
 "nbformat": 4,
 "nbformat_minor": 2
}
