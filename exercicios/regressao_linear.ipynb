{
 "cells": [
  {
   "cell_type": "markdown",
   "metadata": {},
   "source": [
    "## Questão 4: Regressão Linear\n",
    "\n",
    "Dado o seguinte conjunto de dados sobre o preço de casas:\n",
    "\n",
    "- Área (m²): [70, 100, 120, 200]\n",
    "- Preço (mil): [200, 300, 350, 500]\n",
    "\n",
    "### Perguntas:\n",
    "\n",
    "1. Utilize regressão linear para encontrar os pesos que melhor ajustam o modelo para prever o preço com base na área.\n",
    "2. A partir dos dados, faça um gráfico com a linha de regressão linear.\n",
    "3. Sugira transformações de features que poderiam melhorar a performance do modelo.\n",
    "4. Analise o coeficiente de determinação \\(R^2\\) para avaliar o ajuste do modelo.\n"
   ]
  }
 ],
 "metadata": {
  "language_info": {
   "name": "python"
  }
 },
 "nbformat": 4,
 "nbformat_minor": 2
}
