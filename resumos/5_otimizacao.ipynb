{
 "cells": [
  {
   "cell_type": "markdown",
   "metadata": {},
   "source": [
    "### 1- Tipos de Otimização"
   ]
  },
  {
   "cell_type": "markdown",
   "metadata": {},
   "source": [
    "![](../photos/5.1.1.png)"
   ]
  },
  {
   "cell_type": "markdown",
   "metadata": {},
   "source": [
    "![](../photos/5.1.2.png)"
   ]
  },
  {
   "cell_type": "markdown",
   "metadata": {},
   "source": [
    "![](../photos/5.1.3.png)"
   ]
  },
  {
   "cell_type": "markdown",
   "metadata": {},
   "source": [
    "### 2- Mínimo global vs Mínimo Local\n",
    "\n",
    "![](../photos/5.2.1.png)"
   ]
  },
  {
   "cell_type": "markdown",
   "metadata": {},
   "source": [
    "### 3- Descida por Gradiente\n",
    "\n",
    "Tem como objetivo achar o mínimo local"
   ]
  },
  {
   "cell_type": "code",
   "execution_count": 1,
   "metadata": {},
   "outputs": [
    {
     "name": "stdout",
     "output_type": "stream",
     "text": [
      "The minimum of y is 3.875073629249198 at x = 0.7560675056323944\n",
      "The minimum of y is 3.8750000592291105 at x = 0.7498279111994393\n",
      "The minimum of y is 3.8750000043164805 at x = 0.7500464568647054\n",
      "The minimum of y is 3.8750000000471516 at x = 0.7500048554868419\n",
      "The minimum of y is 3.875000000000011 at x = 0.7500000744210666\n",
      "The minimum of y is 3.8750000000000013 at x = 0.749999973636621\n"
     ]
    }
   ],
   "source": [
    "import numpy as np\n",
    "def experiment(num_points):\n",
    "    x = np.random.uniform(-5, 5, num_points)\n",
    "    y = 2*x**2 - 3*x + 5\n",
    "\n",
    "    index_min_y = np.argmin(y)\n",
    "    x_min = x[index_min_y]\n",
    "\n",
    "    print(f'The minimum of y is {y[index_min_y]} at x = {x_min}')\n",
    "\n",
    "num_points = 100\n",
    "experiment(num_points)\n",
    "\n",
    "num_points = 10_000\n",
    "experiment(num_points)\n",
    "\n",
    "num_points = 100_000\n",
    "experiment(num_points)\n",
    "\n",
    "num_points = 1_000_000\n",
    "experiment(num_points)\n",
    "\n",
    "num_points = 10_000_000\n",
    "experiment(num_points)\n",
    "\n",
    "num_points = 100_000_000\n",
    "experiment(num_points)"
   ]
  },
  {
   "cell_type": "markdown",
   "metadata": {},
   "source": [
    "![](../photos/5.3.1.png)"
   ]
  },
  {
   "cell_type": "markdown",
   "metadata": {},
   "source": [
    "![](../photos/5.2.2)"
   ]
  },
  {
   "cell_type": "markdown",
   "metadata": {},
   "source": [
    "![](../photos/5.3.2.png)"
   ]
  }
 ],
 "metadata": {
  "kernelspec": {
   "display_name": ".venv",
   "language": "python",
   "name": "python3"
  },
  "language_info": {
   "codemirror_mode": {
    "name": "ipython",
    "version": 3
   },
   "file_extension": ".py",
   "mimetype": "text/x-python",
   "name": "python",
   "nbconvert_exporter": "python",
   "pygments_lexer": "ipython3",
   "version": "3.12.3"
  }
 },
 "nbformat": 4,
 "nbformat_minor": 2
}
