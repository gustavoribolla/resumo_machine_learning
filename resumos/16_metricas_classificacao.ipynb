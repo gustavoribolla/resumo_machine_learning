{
 "cells": [
  {
   "cell_type": "markdown",
   "metadata": {},
   "source": [
    "# Métricas de Classificação\n",
    "\n",
    "- Precision (Precisão): A precisão é a razão entre as previsões corretas e o número total de previsões feitas.\n",
    "\n",
    "\\begin{equation}\n",
    "precision = \\frac{TP}{TP + FP}\n",
    "\\end{equation}\n",
    "\n",
    "- Recall (Revocação): A revocação é a razão entre as previsões corretas e o número total de instâncias relevantes.\n",
    "\n",
    "\\begin{equation}\n",
    "recall = \\frac{TP}{TP + FN}\n",
    "\\end{equation}\n",
    "\n",
    "- Sensibilidade (Recall): A sensibilidade é a razão entre as previsões corretas e o número total de instâncias relevantes.\n",
    "\n",
    "- Especificidade: A especificidade é a razão entre as previsões corretas e o número total de instâncias não relevantes.\n",
    "\n",
    "\\begin{equation}\n",
    "specificity = \\frac{TN}{TN + FP}\n",
    "\\end{equation}\n",
    "\n",
    "\n"
   ]
  }
 ],
 "metadata": {
  "language_info": {
   "name": "python"
  }
 },
 "nbformat": 4,
 "nbformat_minor": 2
}
