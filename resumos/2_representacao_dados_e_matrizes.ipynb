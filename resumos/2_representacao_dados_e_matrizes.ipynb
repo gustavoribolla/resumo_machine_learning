{
 "cells": [
  {
   "cell_type": "markdown",
   "metadata": {},
   "source": [
    "### 1- Representação de Dados em Matrizes"
   ]
  },
  {
   "cell_type": "markdown",
   "metadata": {},
   "source": [
    "![](../photos/2.1.1.jpg)"
   ]
  },
  {
   "cell_type": "markdown",
   "metadata": {},
   "source": [
    "![](../photos/2.1.2.jpg)"
   ]
  },
  {
   "cell_type": "code",
   "execution_count": 6,
   "metadata": {},
   "outputs": [
    {
     "name": "stdout",
     "output_type": "stream",
     "text": [
      "CSV Simulado criado:\n",
      "   Feature1  Feature2  Feature3\n",
      "0       1.2       5.1       9.1\n",
      "1       2.3       6.2      10.2\n",
      "2       3.1       7.4      11.3\n",
      "3       4.8       8.3      12.4\n"
     ]
    }
   ],
   "source": [
    "import pandas as pd\n",
    "import numpy as np\n",
    "\n",
    "# Criando dados de exemplo para o CSV\n",
    "dados = {\n",
    "    'Feature1': [1.2, 2.3, 3.1, 4.8],\n",
    "    'Feature2': [5.1, 6.2, 7.4, 8.3],\n",
    "    'Feature3': [9.1, 10.2, 11.3, 12.4]\n",
    "}\n",
    "\n",
    "# Criando um DataFrame\n",
    "df = pd.DataFrame(dados)\n",
    "\n",
    "# Salvando o DataFrame como um CSV (simulando o arquivo CSV)\n",
    "df.to_csv('../dados/dados_features.csv', index=False)\n",
    "\n",
    "print(\"CSV Simulado criado:\")\n",
    "print(df)"
   ]
  },
  {
   "cell_type": "code",
   "execution_count": 7,
   "metadata": {},
   "outputs": [
    {
     "name": "stdout",
     "output_type": "stream",
     "text": [
      "Matriz carregada do CSV:\n",
      "[[ 1.2  5.1  9.1]\n",
      " [ 2.3  6.2 10.2]\n",
      " [ 3.1  7.4 11.3]\n",
      " [ 4.8  8.3 12.4]]\n",
      "Tipo da variável 'matriz': <class 'numpy.ndarray'>\n"
     ]
    }
   ],
   "source": [
    "# Carregando o CSV\n",
    "df_carregado = pd.read_csv('../dados/dados_features.csv')\n",
    "\n",
    "# Convertendo o DataFrame em uma matriz (array NumPy)\n",
    "matriz = df_carregado.values\n",
    "\n",
    "# Exibindo a matriz\n",
    "print(\"Matriz carregada do CSV:\")\n",
    "print(matriz)\n",
    "\n",
    "# Verificando o tipo da variável para garantir que é um array NumPy\n",
    "print(\"Tipo da variável 'matriz':\", type(matriz))"
   ]
  },
  {
   "cell_type": "code",
   "execution_count": 8,
   "metadata": {},
   "outputs": [
    {
     "name": "stdout",
     "output_type": "stream",
     "text": [
      "CSV Simulado criado:\n",
      "   Target\n",
      "0     1.4\n",
      "1     2.5\n",
      "2     3.2\n",
      "3     2.8\n"
     ]
    }
   ],
   "source": [
    "import pandas as pd\n",
    "import numpy as np\n",
    "\n",
    "# Criando dados de exemplo para o CSV\n",
    "dados = {\n",
    "    'Target': [1.4, 2.5, 3.2, 2.8],\n",
    "}\n",
    "\n",
    "# Criando um DataFrame\n",
    "df = pd.DataFrame(dados)\n",
    "\n",
    "# Salvando o DataFrame como um CSV (simulando o arquivo CSV)\n",
    "df.to_csv('../dados/dados_target.csv', index=False)\n",
    "\n",
    "print(\"CSV Simulado criado:\")\n",
    "print(df)"
   ]
  },
  {
   "cell_type": "code",
   "execution_count": 9,
   "metadata": {},
   "outputs": [
    {
     "name": "stdout",
     "output_type": "stream",
     "text": [
      "Matriz carregada do CSV:\n",
      "[[1.4]\n",
      " [2.5]\n",
      " [3.2]\n",
      " [2.8]]\n",
      "Tipo da variável 'matriz': <class 'numpy.ndarray'>\n"
     ]
    }
   ],
   "source": [
    "# Carregando o CSV\n",
    "df_carregado = pd.read_csv('../dados/dados_target.csv')\n",
    "\n",
    "# Convertendo o DataFrame em uma matriz (array NumPy)\n",
    "matriz = df_carregado.values\n",
    "\n",
    "# Exibindo a matriz\n",
    "print(\"Matriz carregada do CSV:\")\n",
    "print(matriz)\n",
    "\n",
    "# Verificando o tipo da variável para garantir que é um array NumPy\n",
    "print(\"Tipo da variável 'matriz':\", type(matriz))"
   ]
  },
  {
   "cell_type": "markdown",
   "metadata": {},
   "source": [
    "### 2- Organização de um Problema em Operações Matriciais"
   ]
  },
  {
   "cell_type": "markdown",
   "metadata": {},
   "source": [
    "Um conjunto é linearmente dependente se podemos encontrar uma combinação linear entre eles que dê um vetor nulo com pelo menos um dos valores escalares diferente de 0."
   ]
  },
  {
   "cell_type": "markdown",
   "metadata": {},
   "source": [
    "Questão:"
   ]
  },
  {
   "cell_type": "markdown",
   "metadata": {},
   "source": [
    "Bananas têm 420 mg de potássio, 27 g de carboidratos e 1,3 g de proteína. Maçãs têm 200 mg de potássio, 25 g de carboidratos e 0,5 g de proteína. "
   ]
  },
  {
   "cell_type": "markdown",
   "metadata": {},
   "source": [
    "a) Podemos dizer que bananas e maçãs são equivalentes?"
   ]
  },
  {
   "cell_type": "markdown",
   "metadata": {},
   "source": [
    "$Bananas =\n",
    "\\begin{bmatrix}\n",
    "420\\\\\n",
    "27 \\\\\n",
    "1,3\n",
    "\\end{bmatrix}\n",
    "$\n",
    "\n",
    "$Maçãs =\n",
    "\\begin{bmatrix}\n",
    "200\\\\\n",
    "25 \\\\\n",
    "0,5\n",
    "\\end{bmatrix}\n",
    "$\n",
    "\n",
    "$VetorNulo =\n",
    "\\begin{bmatrix}\n",
    "0\\\\\n",
    "0 \\\\\n",
    "0\n",
    "\\end{bmatrix}\n",
    "$\n",
    "\n",
    "$a1 * Bananas + a2 * Maçãs = vetoNulo$\n",
    "\n",
    "$\n",
    "\\begin{equation}\n",
    "    \\begin{cases}\n",
    "    a1*400 + a2 * 200 = 0 \\\\\n",
    "    a1*27 + a2 * 25 = 0 \\\\\n",
    "    a1*1,3 + a2 * 0,5 = 0\n",
    "    \\end{cases}\n",
    "\\end{equation}\n",
    "$\n",
    "\n",
    "Solucionando, conlcuimos que a1 e a2 são 0 por tanto o conjunto {bananas e maçãs} são linearmente independentes"
   ]
  },
  {
   "cell_type": "code",
   "execution_count": 15,
   "metadata": {},
   "outputs": [
    {
     "name": "stdout",
     "output_type": "stream",
     "text": [
      "2.1 1.08 2.6\n"
     ]
    }
   ],
   "source": [
    "\n",
    "bananas = np.array([420, 27, 1.3])\n",
    "macas = np.array([200, 25, 0.5])\n",
    "\n",
    "p1 = bananas[0]/macas[0]\n",
    "p2 = bananas[1]/macas[1]\n",
    "p3 = bananas[2]/macas[2]\n",
    "\n",
    "print(p1, p2, p3)"
   ]
  },
  {
   "cell_type": "markdown",
   "metadata": {},
   "source": [
    "b) Uma baçã é uma fruta fictícia com 300 mg de potássio, 26 g de carboidratos e 0,9 g de proteína. A baçã traz mais variedade nutricional, ou seja, o conjunto {baçãs, bananas, maçãs} é linearmente independente ou linearmente dependente?"
   ]
  },
  {
   "cell_type": "markdown",
   "metadata": {},
   "source": [
    "Seguindo a mesma ideia de antes para para as maças, bananas e baçãs. Encontramos que para a1 =1, a2 = 1 e a3 = -2 o resultado é o vetor nulo, assim podemos dizer que {bananas, maçãs e baçãs} são linearmente dependentes"
   ]
  },
  {
   "cell_type": "code",
   "execution_count": 23,
   "metadata": {},
   "outputs": [
    {
     "name": "stdout",
     "output_type": "stream",
     "text": [
      "O conjunto é linearmente dependente.\n"
     ]
    }
   ],
   "source": [
    "#USAR COM MODERAÇÃO\n",
    "\n",
    "bacas = np.array([300, 26, 0.9])\n",
    "bananas = np.array([420, 27, 1.3])\n",
    "macas = np.array([200, 25, 0.5])\n",
    "\n",
    "\n",
    "import numpy as np\n",
    "# Montando a matriz\n",
    "matriz = np.array([bacas, bananas, macas])\n",
    "\n",
    "# Calculando o determinante\n",
    "determinante = np.linalg.det(matriz)\n",
    "\n",
    "# Verificando a dependência linear\n",
    "if determinante != 0:\n",
    "    print(\"O conjunto é linearmente dependente.\")\n",
    "else:\n",
    "    print(\"O conjunto é linearmente independente.\")\n"
   ]
  }
 ],
 "metadata": {
  "kernelspec": {
   "display_name": ".venv",
   "language": "python",
   "name": "python3"
  },
  "language_info": {
   "codemirror_mode": {
    "name": "ipython",
    "version": 3
   },
   "file_extension": ".py",
   "mimetype": "text/x-python",
   "name": "python",
   "nbconvert_exporter": "python",
   "pygments_lexer": "ipython3",
   "version": "3.12.4"
  }
 },
 "nbformat": 4,
 "nbformat_minor": 2
}
