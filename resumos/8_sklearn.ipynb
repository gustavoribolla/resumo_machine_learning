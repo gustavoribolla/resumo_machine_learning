{
 "cells": [
  {
   "cell_type": "markdown",
   "metadata": {},
   "source": [
    "### 1- Principais Componentes e aplicações"
   ]
  },
  {
   "cell_type": "markdown",
   "metadata": {},
   "source": [
    "![sexo0](../photos/8.1.1.png)"
   ]
  },
  {
   "cell_type": "markdown",
   "metadata": {},
   "source": [
    "![sexo0](../photos/8.1.2.png)"
   ]
  },
  {
   "cell_type": "markdown",
   "metadata": {},
   "source": [
    "![sexo0](../photos/8.1.3.png)"
   ]
  },
  {
   "cell_type": "markdown",
   "metadata": {},
   "source": [
    "![sexo0](../photos/8.1.4.png)"
   ]
  },
  {
   "cell_type": "markdown",
   "metadata": {},
   "source": [
    "### 2- Fluxo de Trabalho Usando Principais Comandos"
   ]
  },
  {
   "cell_type": "code",
   "execution_count": null,
   "metadata": {},
   "outputs": [],
   "source": [
    "# Importar as bibliotecas necessárias\n",
    "import numpy as np\n",
    "from sklearn.decomposition import TruncatedSVD\n",
    "from sklearn.cluster import KMeans\n",
    "from sklearn.linear_model import LinearRegression\n",
    "from sklearn.model_selection import train_test_split\n",
    "from sklearn.metrics import mean_squared_error, accuracy_score\n",
    "from sklearn.datasets import load_boston  # Exemplo de dados para regressão\n",
    "from sklearn.preprocessing import StandardScaler\n",
    "\n",
    "# 1. Carregar e Preparar os Dados\n",
    "# Usaremos o conjunto de dados Boston Housing (ou qualquer conjunto de dados disponível)\n",
    "X, y = load_boston(return_X_y=True)\n",
    "\n",
    "# Normalizar os dados para que fiquem na mesma escala\n",
    "scaler = StandardScaler()\n",
    "X_scaled = scaler.fit_transform(X)\n",
    "\n",
    "# 2. Aplicar Truncated SVD (redução de dimensionalidade)\n",
    "# Vamos reduzir a dimensionalidade para 5 componentes\n",
    "svd = TruncatedSVD(n_components=5)\n",
    "X_reduced = svd.fit_transform(X_scaled)\n",
    "\n",
    "print(f\"Original shape: {X_scaled.shape}, Reduced shape: {X_reduced.shape}\")\n",
    "\n",
    "# 3. Dividir os dados em treino e teste\n",
    "X_train, X_test, y_train, y_test = train_test_split(X_reduced, y, test_size=0.2, random_state=42)\n",
    "\n",
    "# 4. Usar K-Means para Agrupar os Dados\n",
    "# Vamos tentar agrupar os dados em 3 clusters\n",
    "kmeans = KMeans(n_clusters=3, random_state=42)\n",
    "X_train_clusters = kmeans.fit_predict(X_train)\n",
    "X_test_clusters = kmeans.predict(X_test)\n",
    "\n",
    "print(f\"Cluster assignments (train): {np.unique(X_train_clusters)}\")\n",
    "print(f\"Cluster assignments (test): {np.unique(X_test_clusters)}\")\n",
    "\n",
    "# Agora, podemos usar os clusters como características adicionais\n",
    "X_train_with_clusters = np.column_stack((X_train, X_train_clusters))\n",
    "X_test_with_clusters = np.column_stack((X_test, X_test_clusters))\n",
    "\n",
    "# 5. Treinar um Modelo de Regressão Linear\n",
    "regressor = LinearRegression()\n",
    "regressor.fit(X_train_with_clusters, y_train)\n",
    "\n",
    "# 6. Fazer Previsões e Avaliar o Modelo\n",
    "y_pred = regressor.predict(X_test_with_clusters)\n",
    "\n",
    "# Avaliação usando o erro quadrático médio\n",
    "mse = mean_squared_error(y_test, y_pred)\n",
    "print(f\"Mean Squared Error (MSE) da Regressão Linear: {mse}\")\n",
    "\n",
    "# Opcional: Exibir os coeficientes do modelo\n",
    "print(\"Coeficientes da Regressão Linear:\", regressor.coef_)\n"
   ]
  }
 ],
 "metadata": {
  "kernelspec": {
   "display_name": ".venv",
   "language": "python",
   "name": "python3"
  },
  "language_info": {
   "name": "python",
   "version": "3.11.4"
  }
 },
 "nbformat": 4,
 "nbformat_minor": 2
}
