{
 "cells": [
  {
   "cell_type": "markdown",
   "metadata": {},
   "source": [
    "# Train-validation-test-split\n",
    "Dividir os dados em conjuntos de treinamento, validação e teste é uma prática recomendada para avaliar o desempenho real do modelo em dados não vistos. Neste notebook, vamos dividir os dados em 3 conjuntos: treinamento, validação e teste. O conjunto de treinamento será usado para treinar o modelo, o conjunto de validação será usado para ajustar os hiperparâmetros do modelo e o conjunto de teste será usado para avaliar o desempenho do modelo em dados não vistos.\n",
    "\n"
   ]
  },
  {
   "cell_type": "code",
   "execution_count": null,
   "metadata": {},
   "outputs": [],
   "source": [
    "from sklearn.model_selection import train_test_split\n",
    "\n",
    "X = [[1, 2], [3, 4], [1, 2], [3, 4]]\n",
    "y = [0, 0, 1, 1]\n",
    "\n",
    "# Primeiro, dividimos em treino e teste\n",
    "X_train_val, X_test, y_train_val, y_test = train_test_split(X, y, test_size=0.2, random_state=42)\n",
    "\n",
    "# Em seguida, dividimos o conjunto de treinamento em treino e validação\n",
    "X_train, X_val, y_train, y_val = train_test_split(X_train_val, y_train_val, test_size=0.25, random_state=42)  # 0.25 x 0.8 = 0.2\n"
   ]
  },
  {
   "cell_type": "markdown",
   "metadata": {},
   "source": [
    "# Cross-validation\n",
    "\n",
    "Em vez de ter um conjunto de validação fixo, podemos usar validação cruzada para avaliar o modelo de forma mais robusta.\n",
    "\n",
    "- Validação Cruzada (Cross-validation): O conjunto de dados é dividido em k subconjuntos. O modelo é treinado k vezes, cada vez usando um subconjunto diferente como conjunto de teste e os restantes como treino. \n",
    "\n"
   ]
  },
  {
   "cell_type": "code",
   "execution_count": null,
   "metadata": {},
   "outputs": [],
   "source": [
    "from sklearn.model_selection import cross_val_score\n",
    "from sklearn.ensemble import RandomForestClassifier\n",
    "\n",
    "modelo = RandomForestClassifier()\n",
    "scores = cross_val_score(modelo, X, y, cv=5)  # cv=5 para 5-Fold Cross-Validation\n",
    "\n",
    "print(\"Scores de validação cruzada:\", scores)\n",
    "print(\"Média dos scores:\", scores.mean())\n"
   ]
  }
 ],
 "metadata": {
  "language_info": {
   "name": "python"
  }
 },
 "nbformat": 4,
 "nbformat_minor": 2
}
