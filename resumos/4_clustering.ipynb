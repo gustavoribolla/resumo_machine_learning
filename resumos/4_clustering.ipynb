{
 "cells": [
  {
   "cell_type": "markdown",
   "metadata": {
    "vscode": {
     "languageId": "plaintext"
    }
   },
   "source": [
    "### 1- K-mean"
   ]
  },
  {
   "cell_type": "markdown",
   "metadata": {
    "vscode": {
     "languageId": "bat"
    }
   },
   "source": [
    "![](../photos/4.1.1.png)"
   ]
  },
  {
   "cell_type": "markdown",
   "metadata": {},
   "source": [
    "![](../photos/4.1.2.png)"
   ]
  },
  {
   "cell_type": "markdown",
   "metadata": {
    "vscode": {
     "languageId": "plaintext"
    }
   },
   "source": [
    "![](../photos/4.1.3.png)"
   ]
  },
  {
   "cell_type": "code",
   "execution_count": 2,
   "metadata": {},
   "outputs": [],
   "source": [
    "from sklearn.datasets import fetch_20newsgroups_vectorized\n",
    "\n",
    "data = fetch_20newsgroups_vectorized(remove=('headers', 'footers', 'quotes'))\n",
    "X = data['data']"
   ]
  },
  {
   "cell_type": "code",
   "execution_count": 3,
   "metadata": {},
   "outputs": [
    {
     "ename": "NameError",
     "evalue": "name 'np' is not defined",
     "output_type": "error",
     "traceback": [
      "\u001b[1;31m---------------------------------------------------------------------------\u001b[0m",
      "\u001b[1;31mNameError\u001b[0m                                 Traceback (most recent call last)",
      "Cell \u001b[1;32mIn[3], line 22\u001b[0m\n\u001b[0;32m     20\u001b[0m V \u001b[38;5;241m=\u001b[39m Vt\u001b[38;5;241m.\u001b[39mT\n\u001b[0;32m     21\u001b[0m df_V \u001b[38;5;241m=\u001b[39m pd\u001b[38;5;241m.\u001b[39mDataFrame(V, index\u001b[38;5;241m=\u001b[39mdata[\u001b[38;5;124m'\u001b[39m\u001b[38;5;124mfeature_names\u001b[39m\u001b[38;5;124m'\u001b[39m])\n\u001b[1;32m---> 22\u001b[0m df_V \u001b[38;5;241m=\u001b[39m df_V\u001b[38;5;241m.\u001b[39mdiv(df_V\u001b[38;5;241m.\u001b[39mapply(\u001b[43mnp\u001b[49m\u001b[38;5;241m.\u001b[39mlinalg\u001b[38;5;241m.\u001b[39mnorm, axis\u001b[38;5;241m=\u001b[39m\u001b[38;5;241m1\u001b[39m), axis\u001b[38;5;241m=\u001b[39m\u001b[38;5;241m0\u001b[39m)\n\u001b[0;32m     23\u001b[0m clusterer\u001b[38;5;241m.\u001b[39mfit(df_V)\n",
      "\u001b[1;31mNameError\u001b[0m: name 'np' is not defined"
     ]
    }
   ],
   "source": [
    "from sklearn.cluster import KMeans\n",
    "from sklearn.decomposition import TruncatedSVD\n",
    "import pandas as pd\n",
    "import numpy as np\n",
    "\n",
    "clusterer = KMeans(n_clusters=20, random_state=42)\n",
    "\n",
    "#clusters é o numero de grupos\n",
    "#random_state é a semente do gerador de números aleatórios\n",
    "#clusterer é o objeto que representa o algoritmo de agrup\n",
    "\n",
    "\n",
    "svd = TruncatedSVD(n_components=10, random_state=42) #versão já reduzida do svd, n_components é o numero de dimensões que queremos reduzir e random_state é a semente do gerador de números aleatórios\n",
    "\n",
    "U_times_S = svd.fit_transform(X)\n",
    "#A decomposição SVD transforma a matriz X em uma nova matriz U_times_S, que é o produto das matrizes \n",
    "# U e 𝑆 (ondeS são os valores singulares). \n",
    "# Essa matriz é a projeção dos dados em um espaço de menor dimensionalidade (10 dimensões).\n",
    "\n",
    "S = svd.singular_values_ \n",
    "#: Obtém os valores singulares da decomposição, que estão relacionados à variância capturada \n",
    "# em cada um dos componentes principais.\n",
    "\n",
    "Vt = svd.components_\n",
    "# Obtém os componentes da decomposição (matriz V⊤). \n",
    "# Esses componentes são os \"vetores principais\" que capturam as direções mais importantes nos dados.\n",
    "\n",
    "V = Vt.T\n",
    "# Como Vt tem dimensões (n_components, n_palavras), precisamos transpor.\n",
    "df_V = pd.DataFrame(V, index=data['feature_names'])\n",
    "df_V = df_V.div(df_V.apply(np.linalg.norm, axis=1), axis=0)\n",
    "clusterer.fit(df_V)"
   ]
  }
 ],
 "metadata": {
  "kernelspec": {
   "display_name": ".venv",
   "language": "python",
   "name": "python3"
  },
  "language_info": {
   "codemirror_mode": {
    "name": "ipython",
    "version": 3
   },
   "file_extension": ".py",
   "mimetype": "text/x-python",
   "name": "python",
   "nbconvert_exporter": "python",
   "pygments_lexer": "ipython3",
   "version": "3.12.3"
  }
 },
 "nbformat": 4,
 "nbformat_minor": 2
}
