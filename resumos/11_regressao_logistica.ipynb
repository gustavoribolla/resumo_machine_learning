{
 "cells": [
  {
   "cell_type": "markdown",
   "metadata": {},
   "source": [
    "# Regressão Logística\n",
    "\n",
    "A **Regressão Logística** é um modelo estatístico usado para problemas de classificação binária. Ela estima a probabilidade de uma instância pertencer a uma classe específica.\n",
    "\n",
    "A Regressão Logística é um modelo linear generalizado que usa a função logística para modelar a probabilidade de uma variável dependente categórica. A função logística é uma função sigmóide que mapeia qualquer valor real para o intervalo de 0 a 1.\n",
    "\n"
   ]
  },
  {
   "cell_type": "markdown",
   "metadata": {},
   "source": [
    "### Fórmula detalhada para Regressão Logística:\n",
    "A probabilidade é modelada usando a função sigmóide:\n",
    "\n",
    "\\begin{equation}\n",
    "\\sigma(t) = \\frac{1}{1 + e^{-t}}\n",
    "\\end{equation}\n",
    "\n",
    "\n",
    "Onde:\n",
    "- $\\sigma(t)$ é a probabilidade de que uma instância pertença à classe positiva.\n",
    "\n",
    "A função de decisão é dada por:\n",
    "\n",
    "\\begin{equation}\n",
    "\\hat{p} = h_{\\theta}(x) = \\sigma(\\theta^T \\cdot x)\n",
    "\\end{equation}\n",
    "\n",
    "Onde:\n",
    "- $\\hat{p}$ é a probabilidade estimada de que a instância pertença à classe positiva.\n",
    "- $x$ é o vetor de características da instância.\n",
    "- $\\theta$ é o vetor de parâmetros do modelo, incluindo o termo de polarização $\\theta_0$ e os pesos $\\theta_1, \\theta_2, \\dots, \\theta_n$ associados às características $x_1, x_2, \\dots, x_n$.\n",
    "\n",
    "A função sigmóide gera valores entre 0 e 1, que podem ser interpretados como probabilidades. Para fazer previsões, usamos a seguinte regra:\n",
    "\n",
    "\\begin{equation}\n",
    "\\hat{y} = \\begin{cases} 0 & \\text{se } \\hat{p} < 0.5, \\\\ 1 & \\text{se } \\hat{p} \\geq 0.5. \\end{cases}\n",
    "\\end{equation}\n",
    "\n"
   ]
  },
  {
   "cell_type": "code",
   "execution_count": null,
   "metadata": {},
   "outputs": [],
   "source": [
    "from sklearn.linear_model import LogisticRegression\n",
    "\n",
    "modelo = LogisticRegression()\n",
    "modelo.fit(X_train, y_train)\n"
   ]
  }
 ],
 "metadata": {
  "language_info": {
   "name": "python"
  }
 },
 "nbformat": 4,
 "nbformat_minor": 2
}
