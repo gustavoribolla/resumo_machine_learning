{
 "cells": [
  {
   "cell_type": "markdown",
   "metadata": {},
   "source": [
    "# Processo de Modelagem\n",
    "O processo de modelagem em Machine Learning envolve várias etapas que vão desde a coleta e preparação dos dados até o deployment (implantação) do modelo em produção. Vamos explorar os níveis mencionados:\n",
    "\n",
    "\n",
    "### Nível 0: Deploys de Modelos\n",
    "\n",
    "**Deploy** é a etapa final onde o modelo treinado é colocado em um ambiente de produção para uso real. Isso pode envolver a integração do modelo em um sistema existente, criando APIs para que outros serviços possam utilizá-lo, ou desenvolvendo interfaces de usuário para interação direta.\n",
    "\n",
    "### Nível 1: Avaliação (definir métricas)\n",
    "\n",
    "**Avaliação** envolve medir o desempenho do modelo usando métricas apropriadas. Definir métricas é crucial para entender se o modelo está atendendo aos objetivos desejados.\n",
    "\n",
    "Exemplos de métricas:\n",
    "\n",
    "- Accuracy (Acurácia)\n",
    "- Precision (Precisão)\n",
    "- Recall (Revocação)\n",
    "- F1-Score\n",
    "- AUC-ROC \n",
    "\n",
    "### Nível 2: Escolha do Modelo\n",
    "\n",
    "**Escolha do Modelo** é o processo de selecionar o algoritmo de Machine Learning mais adequado para o problema em questão. Isso pode envolver a avaliação de vários modelos e a comparação de suas métricas de desempenho.\n",
    "\n",
    "\n"
   ]
  },
  {
   "cell_type": "markdown",
   "metadata": {},
   "source": []
  }
 ],
 "metadata": {
  "language_info": {
   "name": "python"
  }
 },
 "nbformat": 4,
 "nbformat_minor": 2
}
