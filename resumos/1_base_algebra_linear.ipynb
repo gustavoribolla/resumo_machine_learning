{
 "cells": [
  {
   "cell_type": "markdown",
   "metadata": {},
   "source": [
    "### 1- Produto Escalar de Tuplas"
   ]
  },
  {
   "cell_type": "markdown",
   "metadata": {},
   "source": [
    "![sexo0](../photos/produto_escalar_tuplas.jpg)"
   ]
  },
  {
   "cell_type": "code",
   "execution_count": 1,
   "metadata": {},
   "outputs": [
    {
     "name": "stdout",
     "output_type": "stream",
     "text": [
      "Produto escalar (usando np.dot): 32\n",
      "Produto escalar (usando @): 32\n"
     ]
    }
   ],
   "source": [
    "import numpy as np\n",
    "\n",
    "# Definindo duas tuplas (ou arrays)\n",
    "a = np.array([1, 2, 3])\n",
    "b = np.array([4, 5, 6])\n",
    "\n",
    "# Calculando o produto escalar com numpy.dot()\n",
    "produto_escalar = np.dot(a, b)\n",
    "\n",
    "# Alternativamente, você pode usar o operador @\n",
    "produto_escalar_op = a @ b\n",
    "\n",
    "print(\"Produto escalar (usando np.dot):\", produto_escalar)\n",
    "print(\"Produto escalar (usando @):\", produto_escalar_op)"
   ]
  },
  {
   "cell_type": "markdown",
   "metadata": {},
   "source": [
    "### 2- Multiplicação de Matrizes"
   ]
  },
  {
   "cell_type": "markdown",
   "metadata": {},
   "source": [
    "![](../photos/1.2.1.jpg)"
   ]
  },
  {
   "cell_type": "code",
   "execution_count": 2,
   "metadata": {},
   "outputs": [
    {
     "name": "stdout",
     "output_type": "stream",
     "text": [
      "Matriz resultante (usando np.dot):\n",
      " [[19 22]\n",
      " [43 50]]\n",
      "Matriz resultante (usando @):\n",
      " [[19 22]\n",
      " [43 50]]\n"
     ]
    }
   ],
   "source": [
    "import numpy as np\n",
    "\n",
    "# Definindo duas matrizes\n",
    "A = np.array([[1, 2], [3, 4]])\n",
    "B = np.array([[5, 6], [7, 8]])\n",
    "\n",
    "# Multiplicação de matrizes com numpy.dot\n",
    "C = np.dot(A, B)\n",
    "\n",
    "# Ou usando o operador @\n",
    "C_op = A @ B\n",
    "\n",
    "print(\"Matriz resultante (usando np.dot):\\n\", C)\n",
    "print(\"Matriz resultante (usando @):\\n\", C_op)"
   ]
  },
  {
   "cell_type": "markdown",
   "metadata": {},
   "source": [
    "### 3- Combinação Linear"
   ]
  },
  {
   "cell_type": "markdown",
   "metadata": {},
   "source": [
    "![](../photos/1.3.1.jpg)\n",
    "![](../photos/1.3.2.jpg)"
   ]
  },
  {
   "cell_type": "code",
   "execution_count": 3,
   "metadata": {},
   "outputs": [
    {
     "name": "stdout",
     "output_type": "stream",
     "text": [
      "Resultado da combinação linear: [-1  0]\n"
     ]
    }
   ],
   "source": [
    "import numpy as np\n",
    "\n",
    "# Definindo dois vetores\n",
    "v1 = np.array([1, 2])\n",
    "v2 = np.array([3, 4])\n",
    "\n",
    "# Definindo os escalares\n",
    "a1 = 2\n",
    "a2 = -1\n",
    "\n",
    "# Calculando a combinação linear\n",
    "resultado = a1 * v1 + a2 * v2\n",
    "\n",
    "print(\"Resultado da combinação linear:\", resultado)"
   ]
  }
 ],
 "metadata": {
  "kernelspec": {
   "display_name": ".venv",
   "language": "python",
   "name": "python3"
  },
  "language_info": {
   "codemirror_mode": {
    "name": "ipython",
    "version": 3
   },
   "file_extension": ".py",
   "mimetype": "text/x-python",
   "name": "python",
   "nbconvert_exporter": "python",
   "pygments_lexer": "ipython3",
   "version": "3.12.4"
  }
 },
 "nbformat": 4,
 "nbformat_minor": 2
}
